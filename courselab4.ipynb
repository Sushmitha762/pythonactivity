{
 "cells": [
  {
   "cell_type": "code",
   "execution_count": 2,
   "id": "4e595243-a091-4ba0-b0f5-c42a7c6eafe1",
   "metadata": {},
   "outputs": [
    {
     "name": "stdin",
     "output_type": "stream",
     "text": [
      "enter first side: 3.2\n",
      "enter second side: 4.5\n",
      "enter third side: 5.3\n"
     ]
    },
    {
     "name": "stdout",
     "output_type": "stream",
     "text": [
      "7.174956445860839\n"
     ]
    }
   ],
   "source": [
    "import math\n",
    "def area_of_triangle(a,b,c):\n",
    "    s=(a+b+c)/2;\n",
    "    area=math.sqrt(s*(s-a)*(s-b)*(s-c));\n",
    "    return area;\n",
    "a=float(input(\"enter first side:\"));\n",
    "b=float(input(\"enter second side:\"));\n",
    "c=float(input(\"enter third side:\"));\n",
    "area=area_of_triangle(a,b,c);\n",
    "print(area);"
   ]
  },
  {
   "cell_type": "code",
   "execution_count": null,
   "id": "50b36c4b-e042-4a01-ae5e-5e35b38ddcd9",
   "metadata": {},
   "outputs": [],
   "source": []
  }
 ],
 "metadata": {
  "kernelspec": {
   "display_name": "Python 3 (ipykernel)",
   "language": "python",
   "name": "python3"
  },
  "language_info": {
   "codemirror_mode": {
    "name": "ipython",
    "version": 3
   },
   "file_extension": ".py",
   "mimetype": "text/x-python",
   "name": "python",
   "nbconvert_exporter": "python",
   "pygments_lexer": "ipython3",
   "version": "3.11.7"
  }
 },
 "nbformat": 4,
 "nbformat_minor": 5
}
