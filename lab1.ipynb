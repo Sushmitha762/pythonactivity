{
 "cells": [
  {
   "cell_type": "code",
   "execution_count": 7,
   "id": "899e558f-ddbc-469e-88e9-9c761a99e3a1",
   "metadata": {},
   "outputs": [
    {
     "name": "stdout",
     "output_type": "stream",
     "text": [
      "True\n",
      "False\n",
      "True\n"
     ]
    }
   ],
   "source": [
    "def is_palindrome(s):\n",
    "    s=''.join(e for e in s if e.isalnum()).lower()\n",
    "    return s==s[::-1];\n",
    "print(is_palindrome(\"madam\"));\n",
    "print(is_palindrome(\"hello\"));\n",
    "print(is_palindrome(\"racecar\"));"
   ]
  },
  {
   "cell_type": "code",
   "execution_count": null,
   "id": "5cc43e00-a669-402a-b17c-157e8e232a4c",
   "metadata": {},
   "outputs": [],
   "source": []
  }
 ],
 "metadata": {
  "kernelspec": {
   "display_name": "Python 3 (ipykernel)",
   "language": "python",
   "name": "python3"
  },
  "language_info": {
   "codemirror_mode": {
    "name": "ipython",
    "version": 3
   },
   "file_extension": ".py",
   "mimetype": "text/x-python",
   "name": "python",
   "nbconvert_exporter": "python",
   "pygments_lexer": "ipython3",
   "version": "3.11.7"
  }
 },
 "nbformat": 4,
 "nbformat_minor": 5
}
