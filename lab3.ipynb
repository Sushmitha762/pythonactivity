{
 "cells": [
  {
   "cell_type": "code",
   "execution_count": 1,
   "id": "ee76c30a-98b6-4d2c-8962-9021adc934ff",
   "metadata": {},
   "outputs": [
    {
     "name": "stdout",
     "output_type": "stream",
     "text": [
      "2\n",
      "5\n"
     ]
    }
   ],
   "source": [
    "def count_vowels(s):\n",
    "    vowels=\"aeiouAEIOU\";\n",
    "    count=0;\n",
    "    for char in s:\n",
    "        if char in vowels:\n",
    "            count+=1;\n",
    "    return count;\n",
    "print(count_vowels(\"Hello\"));\n",
    "print(count_vowels(\"Welcome to Python\"));"
   ]
  },
  {
   "cell_type": "code",
   "execution_count": null,
   "id": "6a400b0f-b6d2-410d-8140-f1a002fc6364",
   "metadata": {},
   "outputs": [],
   "source": []
  }
 ],
 "metadata": {
  "kernelspec": {
   "display_name": "Python 3 (ipykernel)",
   "language": "python",
   "name": "python3"
  },
  "language_info": {
   "codemirror_mode": {
    "name": "ipython",
    "version": 3
   },
   "file_extension": ".py",
   "mimetype": "text/x-python",
   "name": "python",
   "nbconvert_exporter": "python",
   "pygments_lexer": "ipython3",
   "version": "3.11.7"
  }
 },
 "nbformat": 4,
 "nbformat_minor": 5
}
