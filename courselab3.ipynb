{
 "cells": [
  {
   "cell_type": "code",
   "execution_count": 3,
   "id": "96b32016-41dc-42ce-a2b9-70866adfe835",
   "metadata": {},
   "outputs": [
    {
     "name": "stdout",
     "output_type": "stream",
     "text": [
      "enter name\n"
     ]
    },
    {
     "name": "stdin",
     "output_type": "stream",
     "text": [
      "None sush\n"
     ]
    },
    {
     "name": "stdout",
     "output_type": "stream",
     "text": [
      "enter age\n"
     ]
    },
    {
     "name": "stdin",
     "output_type": "stream",
     "text": [
      "None 20\n"
     ]
    },
    {
     "name": "stdout",
     "output_type": "stream",
     "text": [
      "enter city\n"
     ]
    },
    {
     "name": "stdin",
     "output_type": "stream",
     "text": [
      "None dfggf\n"
     ]
    },
    {
     "name": "stdout",
     "output_type": "stream",
     "text": [
      "sush\n",
      "20\n",
      "dfggf\n"
     ]
    }
   ],
   "source": [
    "name=input(print(\"enter name\"));\n",
    "age=input(print(\"enter age\"));\n",
    "city=input(print(\"enter city\"));\n",
    "print(name);\n",
    "print(age);\n",
    "print(city);"
   ]
  },
  {
   "cell_type": "code",
   "execution_count": null,
   "id": "3a36ab8d-e9aa-4a37-a2ae-856114cdaffe",
   "metadata": {},
   "outputs": [],
   "source": []
  }
 ],
 "metadata": {
  "kernelspec": {
   "display_name": "Python 3 (ipykernel)",
   "language": "python",
   "name": "python3"
  },
  "language_info": {
   "codemirror_mode": {
    "name": "ipython",
    "version": 3
   },
   "file_extension": ".py",
   "mimetype": "text/x-python",
   "name": "python",
   "nbconvert_exporter": "python",
   "pygments_lexer": "ipython3",
   "version": "3.11.7"
  }
 },
 "nbformat": 4,
 "nbformat_minor": 5
}
