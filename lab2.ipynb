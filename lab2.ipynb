{
 "cells": [
  {
   "cell_type": "code",
   "execution_count": 2,
   "id": "8f9c192f-c354-46b3-9604-befbf90c861f",
   "metadata": {},
   "outputs": [
    {
     "name": "stdout",
     "output_type": "stream",
     "text": [
      "the largest number is: 25\n"
     ]
    }
   ],
   "source": [
    "def find_largest(lst):\n",
    "    return max(lst);\n",
    "numbers=[10,20,5,8,25,3];\n",
    "largest_number=find_largest(numbers);\n",
    "print(\"the largest number is:\",largest_number);"
   ]
  },
  {
   "cell_type": "code",
   "execution_count": null,
   "id": "70bcaa7f-7aa5-4ebd-8dc1-fd5bd89e0839",
   "metadata": {},
   "outputs": [],
   "source": []
  }
 ],
 "metadata": {
  "kernelspec": {
   "display_name": "Python 3 (ipykernel)",
   "language": "python",
   "name": "python3"
  },
  "language_info": {
   "codemirror_mode": {
    "name": "ipython",
    "version": 3
   },
   "file_extension": ".py",
   "mimetype": "text/x-python",
   "name": "python",
   "nbconvert_exporter": "python",
   "pygments_lexer": "ipython3",
   "version": "3.11.7"
  }
 },
 "nbformat": 4,
 "nbformat_minor": 5
}
