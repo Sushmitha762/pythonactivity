{
 "cells": [
  {
   "cell_type": "code",
   "execution_count": 12,
   "id": "caf62f01-fcd2-4d16-96c1-f698e735d39e",
   "metadata": {},
   "outputs": [
    {
     "name": "stdout",
     "output_type": "stream",
     "text": [
      "50\n",
      "15\n"
     ]
    }
   ],
   "source": [
    "def multiplication_and_sum(num1,num2):\n",
    "    product=num1*num2;\n",
    "    sum=num1+num2;\n",
    "    return product,sum;\n",
    "num1=5\n",
    "num2=10\n",
    "product_result,sum_result=multiplication_and_sum(num1,num2);\n",
    "print(product_result);\n",
    "print(sum_result);"
   ]
  },
  {
   "cell_type": "code",
   "execution_count": null,
   "id": "571e10c8-27b7-4848-aac8-eb460e517d64",
   "metadata": {},
   "outputs": [],
   "source": []
  },
  {
   "cell_type": "code",
   "execution_count": null,
   "id": "9fa1d22d-2513-40ef-b424-5322b21b05ec",
   "metadata": {},
   "outputs": [],
   "source": []
  }
 ],
 "metadata": {
  "kernelspec": {
   "display_name": "Python 3 (ipykernel)",
   "language": "python",
   "name": "python3"
  },
  "language_info": {
   "codemirror_mode": {
    "name": "ipython",
    "version": 3
   },
   "file_extension": ".py",
   "mimetype": "text/x-python",
   "name": "python",
   "nbconvert_exporter": "python",
   "pygments_lexer": "ipython3",
   "version": "3.11.7"
  }
 },
 "nbformat": 4,
 "nbformat_minor": 5
}
